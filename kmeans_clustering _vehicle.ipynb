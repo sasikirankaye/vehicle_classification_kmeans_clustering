{
 "cells": [
  {
   "cell_type": "markdown",
   "metadata": {
    "colab_type": "text",
    "id": "qu_OG92m_frE"
   },
   "source": [
    "### The data set has information about features of silhouette extracted from the images of different cars\n",
    "\n",
    "Four \"Corgie\" model vehicles were used for the experiment: a double decker bus, Cheverolet van, Saab 9000 and an Opel Manta 400 cars. This particular combination of vehicles was chosen with the expectation that the bus, van and either one of the cars would be readily distinguishable, but it would be more difficult to distinguish between the cars.\n",
    "\n"
   ]
  },
  {
   "cell_type": "markdown",
   "metadata": {
    "colab_type": "text",
    "id": "h2Vv5KVp_frG"
   },
   "source": [
    "### 1. Read the dataset using function .dropna() - to avoid dealing with NAs as of now"
   ]
  },
  {
   "cell_type": "code",
   "execution_count": 1,
   "metadata": {
    "colab": {},
    "colab_type": "code",
    "id": "CB0MG7S7_frW",
    "outputId": "cf98a031-e018-4cf2-d0b2-99aeaf34cd64"
   },
   "outputs": [],
   "source": [
    "import numpy as np\n",
    "import pandas as pd\n",
    "from sklearn.cluster import KMeans\n",
    "from scipy.stats import zscore as zs\n",
    "import matplotlib.pyplot as plt\n",
    "import seaborn as sns\n",
    "%matplotlib inline\n",
    "import warnings\n",
    "warnings.filterwarnings('ignore')\n",
    "from sklearn.cluster import AgglomerativeClustering"
   ]
  },
  {
   "cell_type": "code",
   "execution_count": 3,
   "metadata": {},
   "outputs": [],
   "source": [
    "df_vehicle=pd.read_csv('C:/Users/KSK/Downloads/unsupervised learning day1,day2 inclass,take home/usl project/vehicle.csv')"
   ]
  },
  {
   "cell_type": "code",
   "execution_count": 4,
   "metadata": {},
   "outputs": [
    {
     "data": {
      "text/html": [
       "<div>\n",
       "<style scoped>\n",
       "    .dataframe tbody tr th:only-of-type {\n",
       "        vertical-align: middle;\n",
       "    }\n",
       "\n",
       "    .dataframe tbody tr th {\n",
       "        vertical-align: top;\n",
       "    }\n",
       "\n",
       "    .dataframe thead th {\n",
       "        text-align: right;\n",
       "    }\n",
       "</style>\n",
       "<table border=\"1\" class=\"dataframe\">\n",
       "  <thead>\n",
       "    <tr style=\"text-align: right;\">\n",
       "      <th></th>\n",
       "      <th>compactness</th>\n",
       "      <th>circularity</th>\n",
       "      <th>distance_circularity</th>\n",
       "      <th>radius_ratio</th>\n",
       "      <th>pr.axis_aspect_ratio</th>\n",
       "      <th>max.length_aspect_ratio</th>\n",
       "      <th>scatter_ratio</th>\n",
       "      <th>elongatedness</th>\n",
       "      <th>pr.axis_rectangularity</th>\n",
       "      <th>max.length_rectangularity</th>\n",
       "      <th>scaled_variance</th>\n",
       "      <th>scaled_variance.1</th>\n",
       "      <th>scaled_radius_of_gyration</th>\n",
       "      <th>scaled_radius_of_gyration.1</th>\n",
       "      <th>skewness_about</th>\n",
       "      <th>skewness_about.1</th>\n",
       "      <th>skewness_about.2</th>\n",
       "      <th>hollows_ratio</th>\n",
       "      <th>class</th>\n",
       "    </tr>\n",
       "  </thead>\n",
       "  <tbody>\n",
       "    <tr>\n",
       "      <td>0</td>\n",
       "      <td>95</td>\n",
       "      <td>48.0</td>\n",
       "      <td>83.0</td>\n",
       "      <td>178.0</td>\n",
       "      <td>72.0</td>\n",
       "      <td>10</td>\n",
       "      <td>162.0</td>\n",
       "      <td>42.0</td>\n",
       "      <td>20.0</td>\n",
       "      <td>159</td>\n",
       "      <td>176.0</td>\n",
       "      <td>379.0</td>\n",
       "      <td>184.0</td>\n",
       "      <td>70.0</td>\n",
       "      <td>6.0</td>\n",
       "      <td>16.0</td>\n",
       "      <td>187.0</td>\n",
       "      <td>197</td>\n",
       "      <td>van</td>\n",
       "    </tr>\n",
       "    <tr>\n",
       "      <td>1</td>\n",
       "      <td>91</td>\n",
       "      <td>41.0</td>\n",
       "      <td>84.0</td>\n",
       "      <td>141.0</td>\n",
       "      <td>57.0</td>\n",
       "      <td>9</td>\n",
       "      <td>149.0</td>\n",
       "      <td>45.0</td>\n",
       "      <td>19.0</td>\n",
       "      <td>143</td>\n",
       "      <td>170.0</td>\n",
       "      <td>330.0</td>\n",
       "      <td>158.0</td>\n",
       "      <td>72.0</td>\n",
       "      <td>9.0</td>\n",
       "      <td>14.0</td>\n",
       "      <td>189.0</td>\n",
       "      <td>199</td>\n",
       "      <td>van</td>\n",
       "    </tr>\n",
       "    <tr>\n",
       "      <td>2</td>\n",
       "      <td>104</td>\n",
       "      <td>50.0</td>\n",
       "      <td>106.0</td>\n",
       "      <td>209.0</td>\n",
       "      <td>66.0</td>\n",
       "      <td>10</td>\n",
       "      <td>207.0</td>\n",
       "      <td>32.0</td>\n",
       "      <td>23.0</td>\n",
       "      <td>158</td>\n",
       "      <td>223.0</td>\n",
       "      <td>635.0</td>\n",
       "      <td>220.0</td>\n",
       "      <td>73.0</td>\n",
       "      <td>14.0</td>\n",
       "      <td>9.0</td>\n",
       "      <td>188.0</td>\n",
       "      <td>196</td>\n",
       "      <td>car</td>\n",
       "    </tr>\n",
       "    <tr>\n",
       "      <td>3</td>\n",
       "      <td>93</td>\n",
       "      <td>41.0</td>\n",
       "      <td>82.0</td>\n",
       "      <td>159.0</td>\n",
       "      <td>63.0</td>\n",
       "      <td>9</td>\n",
       "      <td>144.0</td>\n",
       "      <td>46.0</td>\n",
       "      <td>19.0</td>\n",
       "      <td>143</td>\n",
       "      <td>160.0</td>\n",
       "      <td>309.0</td>\n",
       "      <td>127.0</td>\n",
       "      <td>63.0</td>\n",
       "      <td>6.0</td>\n",
       "      <td>10.0</td>\n",
       "      <td>199.0</td>\n",
       "      <td>207</td>\n",
       "      <td>van</td>\n",
       "    </tr>\n",
       "    <tr>\n",
       "      <td>4</td>\n",
       "      <td>85</td>\n",
       "      <td>44.0</td>\n",
       "      <td>70.0</td>\n",
       "      <td>205.0</td>\n",
       "      <td>103.0</td>\n",
       "      <td>52</td>\n",
       "      <td>149.0</td>\n",
       "      <td>45.0</td>\n",
       "      <td>19.0</td>\n",
       "      <td>144</td>\n",
       "      <td>241.0</td>\n",
       "      <td>325.0</td>\n",
       "      <td>188.0</td>\n",
       "      <td>127.0</td>\n",
       "      <td>9.0</td>\n",
       "      <td>11.0</td>\n",
       "      <td>180.0</td>\n",
       "      <td>183</td>\n",
       "      <td>bus</td>\n",
       "    </tr>\n",
       "  </tbody>\n",
       "</table>\n",
       "</div>"
      ],
      "text/plain": [
       "   compactness  circularity  distance_circularity  radius_ratio  \\\n",
       "0           95         48.0                  83.0         178.0   \n",
       "1           91         41.0                  84.0         141.0   \n",
       "2          104         50.0                 106.0         209.0   \n",
       "3           93         41.0                  82.0         159.0   \n",
       "4           85         44.0                  70.0         205.0   \n",
       "\n",
       "   pr.axis_aspect_ratio  max.length_aspect_ratio  scatter_ratio  \\\n",
       "0                  72.0                       10          162.0   \n",
       "1                  57.0                        9          149.0   \n",
       "2                  66.0                       10          207.0   \n",
       "3                  63.0                        9          144.0   \n",
       "4                 103.0                       52          149.0   \n",
       "\n",
       "   elongatedness  pr.axis_rectangularity  max.length_rectangularity  \\\n",
       "0           42.0                    20.0                        159   \n",
       "1           45.0                    19.0                        143   \n",
       "2           32.0                    23.0                        158   \n",
       "3           46.0                    19.0                        143   \n",
       "4           45.0                    19.0                        144   \n",
       "\n",
       "   scaled_variance  scaled_variance.1  scaled_radius_of_gyration  \\\n",
       "0            176.0              379.0                      184.0   \n",
       "1            170.0              330.0                      158.0   \n",
       "2            223.0              635.0                      220.0   \n",
       "3            160.0              309.0                      127.0   \n",
       "4            241.0              325.0                      188.0   \n",
       "\n",
       "   scaled_radius_of_gyration.1  skewness_about  skewness_about.1  \\\n",
       "0                         70.0             6.0              16.0   \n",
       "1                         72.0             9.0              14.0   \n",
       "2                         73.0            14.0               9.0   \n",
       "3                         63.0             6.0              10.0   \n",
       "4                        127.0             9.0              11.0   \n",
       "\n",
       "   skewness_about.2  hollows_ratio class  \n",
       "0             187.0            197   van  \n",
       "1             189.0            199   van  \n",
       "2             188.0            196   car  \n",
       "3             199.0            207   van  \n",
       "4             180.0            183   bus  "
      ]
     },
     "execution_count": 4,
     "metadata": {},
     "output_type": "execute_result"
    }
   ],
   "source": [
    "df_vehicle.head()"
   ]
  },
  {
   "cell_type": "markdown",
   "metadata": {
    "colab_type": "text",
    "id": "GoxTqSl__fra"
   },
   "source": [
    "### 2. Print/ Plot the dependent (categorical variable) - Class column"
   ]
  },
  {
   "cell_type": "markdown",
   "metadata": {
    "colab_type": "text",
    "id": "Aj4R9dfr_frb"
   },
   "source": [
    "Since the variable is categorical, you can use value_counts function"
   ]
  },
  {
   "cell_type": "code",
   "execution_count": 5,
   "metadata": {
    "colab": {},
    "colab_type": "code",
    "id": "4jFodExI_frk",
    "outputId": "86647032-fd4e-45eb-f328-b1e0921641df"
   },
   "outputs": [
    {
     "data": {
      "image/png": "[encoded data removed]",
      "text/plain": [
       "<Figure size 432x288 with 1 Axes>"
      ]
     },
     "metadata": {
      "needs_background": "light"
     },
     "output_type": "display_data"
    }
   ],
   "source": [
    "sns.countplot(df_vehicle['class'])\n",
    "plt.show()"
   ]
  },
  {
   "cell_type": "markdown",
   "metadata": {
    "colab_type": "text",
    "id": "j7dHDxSN_frp"
   },
   "source": [
    "### 3. Check for any missing values in the data "
   ]
  },
  {
   "cell_type": "code",
   "execution_count": 7,
   "metadata": {
    "colab": {},
    "colab_type": "code",
    "id": "HEQTd1bc_frr",
    "outputId": "2da786d3-7e91-4a26-cbca-25b36cf1dbe7"
   },
   "outputs": [
    {
     "data": {
      "text/plain": [
       "compactness                    0\n",
       "circularity                    5\n",
       "distance_circularity           4\n",
       "radius_ratio                   6\n",
       "pr.axis_aspect_ratio           2\n",
       "max.length_aspect_ratio        0\n",
       "scatter_ratio                  1\n",
       "elongatedness                  1\n",
       "pr.axis_rectangularity         3\n",
       "max.length_rectangularity      0\n",
       "scaled_variance                3\n",
       "scaled_variance.1              2\n",
       "scaled_radius_of_gyration      2\n",
       "scaled_radius_of_gyration.1    4\n",
       "skewness_about                 6\n",
       "skewness_about.1               1\n",
       "skewness_about.2               1\n",
       "hollows_ratio                  0\n",
       "class                          0\n",
       "dtype: int64"
      ]
     },
     "execution_count": 7,
     "metadata": {},
     "output_type": "execute_result"
    }
   ],
   "source": [
    "df_vehicle.isnull().sum()"
   ]
  },
  {
   "cell_type": "markdown",
   "metadata": {},
   "source": [
    "# handling missing values"
   ]
  },
  {
   "cell_type": "code",
   "execution_count": 12,
   "metadata": {},
   "outputs": [
    {
     "data": {
      "text/plain": [
       "array([48., 41., 50., 44., nan, 43., 34., 36., 46., 42., 49., 55., 54.,\n",
       "       56., 47., 37., 39., 53., 45., 38., 35., 40., 59., 52., 51., 58.,\n",
       "       57., 33.])"
      ]
     },
     "execution_count": 12,
     "metadata": {},
     "output_type": "execute_result"
    }
   ],
   "source": [
    "df_vehicle['circularity'].unique()"
   ]
  },
  {
   "cell_type": "code",
   "execution_count": 14,
   "metadata": {},
   "outputs": [],
   "source": [
    "mean_circ=df_vehicle['circularity'].mean()"
   ]
  },
  {
   "cell_type": "code",
   "execution_count": 20,
   "metadata": {},
   "outputs": [],
   "source": [
    "df_vehicle['circularity'].fillna(44.8,inplace=True)"
   ]
  },
  {
   "cell_type": "code",
   "execution_count": 21,
   "metadata": {},
   "outputs": [
    {
     "data": {
      "text/plain": [
       "array([48.        , 41.        , 50.        , 44.        , 44.82877527,\n",
       "       43.        , 34.        , 36.        , 46.        , 42.        ,\n",
       "       49.        , 55.        , 54.        , 56.        , 47.        ,\n",
       "       37.        , 39.        , 53.        , 45.        , 38.        ,\n",
       "       35.        , 40.        , 59.        , 52.        , 51.        ,\n",
       "       58.        , 57.        , 33.        ])"
      ]
     },
     "execution_count": 21,
     "metadata": {},
     "output_type": "execute_result"
    }
   ],
   "source": [
    "df_vehicle['circularity'].unique()"
   ]
  },
  {
   "cell_type": "code",
   "execution_count": 22,
   "metadata": {},
   "outputs": [
    {
     "data": {
      "text/plain": [
       "array([ 83.,  84., 106.,  82.,  70.,  73.,  66.,  62.,  98.,  74.,  85.,\n",
       "        79., 103.,  51.,  77., 100.,  75.,  53.,  64., 105.,  80.,  54.,\n",
       "        63., 107.,  nan,  72.,  86.,  68., 104.,  87.,  76.,  81.,  71.,\n",
       "       101.,  96.,  78., 108.,  91.,  89.,  94.,  92.,  60.,  57.,  65.,\n",
       "        50.,  88., 109.,  95.,  90.,  58.,  69.,  47.,  40.,  59., 110.,\n",
       "        93., 102., 112.,  61.,  42.,  49.,  44.,  52.,  55.])"
      ]
     },
     "execution_count": 22,
     "metadata": {},
     "output_type": "execute_result"
    }
   ],
   "source": [
    "df_vehicle['distance_circularity'].unique()"
   ]
  },
  {
   "cell_type": "code",
   "execution_count": 23,
   "metadata": {},
   "outputs": [],
   "source": [
    "mean_circ_dist=df_vehicle['distance_circularity'].mean()"
   ]
  },
  {
   "cell_type": "code",
   "execution_count": 24,
   "metadata": {},
   "outputs": [
    {
     "data": {
      "text/plain": [
       "82.1104513064133"
      ]
     },
     "execution_count": 24,
     "metadata": {},
     "output_type": "execute_result"
    }
   ],
   "source": [
    "mean_circ_dist"
   ]
  },
  {
   "cell_type": "code",
   "execution_count": 25,
   "metadata": {},
   "outputs": [],
   "source": [
    "df_vehicle['distance_circularity'].fillna(82,inplace=True)"
   ]
  },
  {
   "cell_type": "code",
   "execution_count": 26,
   "metadata": {},
   "outputs": [
    {
     "data": {
      "text/plain": [
       "array([178., 141., 209., 159., 205., 172., 173., 157., 140.,  nan, 143.,\n",
       "       136., 171., 144., 203., 201., 109., 197., 186., 215., 153., 121.,\n",
       "       148., 219., 154., 119., 193., 129., 160., 151., 222., 177., 118.,\n",
       "       306., 176., 169., 214., 105., 137., 183., 220., 145., 133., 122.,\n",
       "       147., 115., 174., 228., 175., 185., 195., 221., 212., 135., 120.,\n",
       "       156., 125., 164., 161., 227., 191., 111., 170., 113., 127., 188.,\n",
       "       180., 116., 158., 162., 211., 152., 124., 252., 150., 130., 198.,\n",
       "       202., 199., 128., 142., 163., 155., 184., 165., 322., 194., 218.,\n",
       "       216., 223., 149., 131., 139., 179., 166., 187., 167., 231., 168.,\n",
       "       126., 206., 210., 110., 189., 134., 132., 230., 196., 208., 138.,\n",
       "       200., 225., 246., 207., 192., 117., 123., 146., 190., 182., 204.,\n",
       "       224., 333., 213., 226., 238., 181., 114., 104., 112., 234., 235.,\n",
       "       250., 232., 217.])"
      ]
     },
     "execution_count": 26,
     "metadata": {},
     "output_type": "execute_result"
    }
   ],
   "source": [
    "df_vehicle['radius_ratio'].unique()"
   ]
  },
  {
   "cell_type": "code",
   "execution_count": 27,
   "metadata": {},
   "outputs": [],
   "source": [
    "mean_radius_ratio=df_vehicle['radius_ratio'].mean()"
   ]
  },
  {
   "cell_type": "code",
   "execution_count": 28,
   "metadata": {},
   "outputs": [
    {
     "data": {
      "text/plain": [
       "168.88809523809525"
      ]
     },
     "execution_count": 28,
     "metadata": {},
     "output_type": "execute_result"
    }
   ],
   "source": [
    "mean_radius_ratio"
   ]
  },
  {
   "cell_type": "code",
   "execution_count": 29,
   "metadata": {},
   "outputs": [],
   "source": [
    "df_vehicle['radius_ratio'].fillna(168,inplace=True)"
   ]
  },
  {
   "cell_type": "code",
   "execution_count": 30,
   "metadata": {},
   "outputs": [
    {
     "data": {
      "text/plain": [
       "array([ 72.,  57.,  66.,  63., 103.,  50.,  65.,  61.,  62.,  55.,  68.,\n",
       "        58.,  71.,  52.,  69.,  nan,  64.,  59.,  67., 126.,  54.,  73.,\n",
       "        51.,  70.,  53.,  56.,  74.,  60.,  76.,  75.,  49., 133.,  47.,\n",
       "       102., 138.,  48.,  97., 105.])"
      ]
     },
     "execution_count": 30,
     "metadata": {},
     "output_type": "execute_result"
    }
   ],
   "source": [
    "df_vehicle['pr.axis_aspect_ratio'].unique()"
   ]
  },
  {
   "cell_type": "code",
   "execution_count": 31,
   "metadata": {},
   "outputs": [],
   "source": [
    "mean_pr_ax=df_vehicle['pr.axis_aspect_ratio'].mean()"
   ]
  },
  {
   "cell_type": "code",
   "execution_count": 32,
   "metadata": {},
   "outputs": [
    {
     "data": {
      "text/plain": [
       "61.67890995260664"
      ]
     },
     "execution_count": 32,
     "metadata": {},
     "output_type": "execute_result"
    }
   ],
   "source": [
    "mean_pr_ax"
   ]
  },
  {
   "cell_type": "code",
   "execution_count": 33,
   "metadata": {},
   "outputs": [],
   "source": [
    "df_vehicle['pr.axis_aspect_ratio'].fillna(61,inplace=True)"
   ]
  },
  {
   "cell_type": "code",
   "execution_count": 34,
   "metadata": {},
   "outputs": [
    {
     "data": {
      "text/plain": [
       "dtype('float64')"
      ]
     },
     "execution_count": 34,
     "metadata": {},
     "output_type": "execute_result"
    }
   ],
   "source": [
    "df_vehicle['scatter_ratio'].dtype"
   ]
  },
  {
   "cell_type": "code",
   "execution_count": 35,
   "metadata": {},
   "outputs": [
    {
     "data": {
      "text/plain": [
       "array([162., 149., 207., 144., 255., 153., 137., 122., 183., 133., 123.,\n",
       "       152., 174., 204., 118., 177., 216., 208., 154., 150., 143., 147.,\n",
       "       128., 218., 192., 146., 155., 140., 142., 164., 157., 151., 205.,\n",
       "       119., 158., 213., 159., 130., 148., 156., 163., 210., 257., 185.,\n",
       "       209., 193., 184., 225., 190., 215., 224., 176., 126., 195., 172.,\n",
       "       127., 261., 171., 125., 169., 197., 145., 214., 201., 114., 194.,\n",
       "       220., 221., 173., 134., 160., 121., 199., 186., 161., 222., 136.,\n",
       "       187., 250., 202., 166., 132., 211., 247., 116., 203., 181., 240.,\n",
       "       219., 212., 138., 131., 117., 112., 165.,  nan, 226., 129., 175.,\n",
       "       135., 217., 200., 241., 198., 120., 260., 188., 170., 234., 236.,\n",
       "       168., 167., 227., 139., 256., 206., 141., 238., 178., 223., 252.,\n",
       "       239., 115., 191., 179., 251., 262., 196., 180., 189., 237., 265.])"
      ]
     },
     "execution_count": 35,
     "metadata": {},
     "output_type": "execute_result"
    }
   ],
   "source": [
    "df_vehicle['scatter_ratio'].unique()"
   ]
  },
  {
   "cell_type": "code",
   "execution_count": 36,
   "metadata": {},
   "outputs": [],
   "source": [
    "mean_scatter_ratio=df_vehicle['scatter_ratio'].mean()"
   ]
  },
  {
   "cell_type": "code",
   "execution_count": 37,
   "metadata": {},
   "outputs": [
    {
     "data": {
      "text/plain": [
       "168.901775147929"
      ]
     },
     "execution_count": 37,
     "metadata": {},
     "output_type": "execute_result"
    }
   ],
   "source": [
    "mean_scatter_ratio"
   ]
  },
  {
   "cell_type": "code",
   "execution_count": 38,
   "metadata": {},
   "outputs": [],
   "source": [
    "df_vehicle['scatter_ratio'].fillna(168,inplace=True)"
   ]
  },
  {
   "cell_type": "code",
   "execution_count": 39,
   "metadata": {},
   "outputs": [
    {
     "data": {
      "text/plain": [
       "dtype('float64')"
      ]
     },
     "execution_count": 39,
     "metadata": {},
     "output_type": "execute_result"
    }
   ],
   "source": [
    "df_vehicle['elongatedness'].dtype"
   ]
  },
  {
   "cell_type": "code",
   "execution_count": 40,
   "metadata": {},
   "outputs": [
    {
     "data": {
      "text/plain": [
       "array([42., 45., 32., 46., 26., 48., 54., 36., 50., 43., 44., 37., 57.,\n",
       "       31., 55., 53., 33., 47., 40., 51., 34., 52., 35., 30., 38., 56.,\n",
       "       39., 58., 59., 49., 27., 41., nan, 61., 28., 29.])"
      ]
     },
     "execution_count": 40,
     "metadata": {},
     "output_type": "execute_result"
    }
   ],
   "source": [
    "df_vehicle['elongatedness'].unique()"
   ]
  },
  {
   "cell_type": "code",
   "execution_count": 41,
   "metadata": {},
   "outputs": [
    {
     "data": {
      "text/plain": [
       "40.933727810650886"
      ]
     },
     "execution_count": 41,
     "metadata": {},
     "output_type": "execute_result"
    }
   ],
   "source": [
    "df_vehicle['elongatedness'].mean()"
   ]
  },
  {
   "cell_type": "code",
   "execution_count": 42,
   "metadata": {},
   "outputs": [],
   "source": [
    "df_vehicle['elongatedness'].fillna(40,inplace=True)"
   ]
  },
  {
   "cell_type": "code",
   "execution_count": 43,
   "metadata": {},
   "outputs": [
    {
     "data": {
      "text/plain": [
       "dtype('float64')"
      ]
     },
     "execution_count": 43,
     "metadata": {},
     "output_type": "execute_result"
    }
   ],
   "source": [
    "df_vehicle['pr.axis_rectangularity'].dtype"
   ]
  },
  {
   "cell_type": "code",
   "execution_count": 44,
   "metadata": {},
   "outputs": [
    {
     "data": {
      "text/plain": [
       "array([20., 19., 23., 28., 18., 17., 22., 21., 24., 25., nan, 27., 26.,\n",
       "       29.])"
      ]
     },
     "execution_count": 44,
     "metadata": {},
     "output_type": "execute_result"
    }
   ],
   "source": [
    "df_vehicle['pr.axis_rectangularity'].unique()"
   ]
  },
  {
   "cell_type": "code",
   "execution_count": 45,
   "metadata": {},
   "outputs": [
    {
     "data": {
      "text/plain": [
       "20.582443653618032"
      ]
     },
     "execution_count": 45,
     "metadata": {},
     "output_type": "execute_result"
    }
   ],
   "source": [
    "df_vehicle['pr.axis_rectangularity'].mean()"
   ]
  },
  {
   "cell_type": "code",
   "execution_count": 46,
   "metadata": {},
   "outputs": [],
   "source": [
    "df_vehicle['pr.axis_rectangularity'].fillna(20.5,inplace=True)"
   ]
  },
  {
   "cell_type": "code",
   "execution_count": 47,
   "metadata": {},
   "outputs": [
    {
     "data": {
      "text/plain": [
       "dtype('float64')"
      ]
     },
     "execution_count": 47,
     "metadata": {},
     "output_type": "execute_result"
    }
   ],
   "source": [
    "df_vehicle['scaled_variance'].dtype"
   ]
  },
  {
   "cell_type": "code",
   "execution_count": 48,
   "metadata": {},
   "outputs": [
    {
     "data": {
      "text/plain": [
       "array([176., 170., 223., 160., 241., 280., 162., 141., 202., 153., 148.,\n",
       "       180., 173., 196., 227., 137., 225., 175., 169., 164., 221., 143.,\n",
       "       229., 217., 168., 165., 232., 186., 174., 272., 235., 135., 178.,\n",
       "       191., 159., 172., 184., 181., 236., 275., 154., 222., 214., 145.,\n",
       "       203., 231., 208., 226., 210., 197., 171., 155., 278., 189., 142.,\n",
       "       218., 179., 166., 237.,  nan, 212., 177., 167., 132., 151., 216.,\n",
       "       219., 157., 224., 188., 161., 207., 156., 152., 220., 266., 228.,\n",
       "       185., 209., 204., 182., 200., 258., 146., 183., 163., 238., 194.,\n",
       "       134., 206., 136., 130., 190., 158., 147., 140., 265., 211., 138.,\n",
       "       247., 288., 234., 243., 256., 195., 213., 187., 205., 262., 320.,\n",
       "       285., 215., 150., 139., 267., 149., 193., 230., 254., 269., 264.,\n",
       "       199., 192., 144., 131., 246., 287., 240., 263.])"
      ]
     },
     "execution_count": 48,
     "metadata": {},
     "output_type": "execute_result"
    }
   ],
   "source": [
    "df_vehicle['scaled_variance'].unique()"
   ]
  },
  {
   "cell_type": "code",
   "execution_count": 49,
   "metadata": {},
   "outputs": [
    {
     "data": {
      "text/plain": [
       "188.63107947805457"
      ]
     },
     "execution_count": 49,
     "metadata": {},
     "output_type": "execute_result"
    }
   ],
   "source": [
    "df_vehicle['scaled_variance'].mean()"
   ]
  },
  {
   "cell_type": "code",
   "execution_count": 50,
   "metadata": {},
   "outputs": [],
   "source": [
    "df_vehicle['scaled_variance'].fillna(188.6,inplace=True)"
   ]
  },
  {
   "cell_type": "code",
   "execution_count": 51,
   "metadata": {},
   "outputs": [
    {
     "data": {
      "text/plain": [
       "dtype('float64')"
      ]
     },
     "execution_count": 51,
     "metadata": {},
     "output_type": "execute_result"
    }
   ],
   "source": [
    "df_vehicle['scaled_variance.1'].dtype"
   ]
  },
  {
   "cell_type": "code",
   "execution_count": 55,
   "metadata": {},
   "outputs": [
    {
     "data": {
      "text/plain": [
       "array([ 379.,  330.,  635.,  309.,  325.,  957.,  361.,  281.,  223.,\n",
       "        505.,  266.,  224.,  349.,  345.,  465.,  624.,  206.,  485.,\n",
       "        686.,  651.,  354.,  221.,  344.,  307.,  623.,  324.,  238.,\n",
       "        696.,  570.,  314.,  356.,  293.,  304.,  641.,  402.,  363.,\n",
       "        340.,  346.,  691.,  336.,  628.,  207.,  366.,  405.,  675.,\n",
       "        371.,  253.,  317.,  352.,  404.,  299.,  355.,  661.,  341.,\n",
       "        956.,  265.,  512.,  653.,  241.,  567.,  247.,  269.,  333.,\n",
       "        523.,  323.,  748.,  305.,  558.,  683.,  732.,  466.,  227.,\n",
       "        338.,  571.,  445.,  666.,  328.,  343.,  671.,  242.,  311.,\n",
       "        342.,  998.,  209.,  446.,  229.,  703.,  430.,  583.,  312.,\n",
       "        308.,  337.,  602.,  321.,  326.,  347.,  246.,  194.,  576.,\n",
       "        711.,  575.,  331.,  329.,  524.,  357.,  315.,  192.,  351.,\n",
       "        611.,  712.,  463.,  370.,  319.,  216.,  365.,  605.,  578.,\n",
       "        511.,  261.,  669.,  364.,  264.,  230.,  373.,  320.,  670.,\n",
       "        406.,  728.,  387.,  332.,  360.,  279.,  527.,  525.,  334.,\n",
       "        645.,  928.,  240.,  335.,  259.,  610.,  415.,  260.,  665.,\n",
       "        707.,  674.,  243.,  892.,  313.,  680.,  469.,  273.,  638.,\n",
       "        196.,  612.,  479.,  434.,  367.,  494.,  866.,  705.,  350.,\n",
       "        727.,  225.,  396.,  681.,  444.,  284.,  682.,  286.,  388.,\n",
       "        708.,  195.,  722.,  531.,  274.,  704.,  258.,  640.,  203.,\n",
       "        184.,  642.,  268.,  419.,  731.,  684.,  358.,  374.,  426.,\n",
       "        673.,  197.,  716.,  310.,  676.,  604.,  245.,  457.,  237.,\n",
       "        518.,  212.,  218.,  322.,  452.,  316.,  954.,  327.,  362.,\n",
       "        521.,  692.,  427.,  598.,  251.,  870.,  252.,  385.,   nan,\n",
       "        492.,  589.,  249.,  520.,  213.,  718.,  982.,  533.,  435.,\n",
       "        389.,  300.,  530.,  725.,  822.,  720.,  625.,  290.,  271.,\n",
       "        737.,  833.,  668.,  546.,  472.,  504.,  519.,  687.,  425.,\n",
       "        608.,  399.,  359.,  429.,  205.,  776.,  694.,  923.,  296.,\n",
       "        756.,  348.,  467.,  391.,  966.,  413.,  627.,  294.,  595.,\n",
       "        433.,  390.,  287.,  685.,  263.,  255.,  650.,  298.,  710.,\n",
       "        428.,  639.,  280.,  629.,  262.,  473.,  586.,  572.,  376.,\n",
       "        211.,  517.,  844.,  636.,  394.,  607.,  282.,  706.,  480.,\n",
       "        735.,  658.,  741.,  697.,  418.,  301.,  383.,  663.,  709.,\n",
       "        891.,  204.,  757.,  573.,  667.,  372.,  678.,  395.,  729.,\n",
       "        278.,  700.,  339.,  471.,  275.,  291.,  701.,  381.,  526.,\n",
       "        630.,  460.,  904.,  637.,  719.,  601.,  857.,  375.,  378.,\n",
       "        277.,  208.,  295.,  458.,  613.,  855.,  698.,  713.,  416.,\n",
       "        688.,  648.,  369.,  677.,  600.,  409.,  232.,  622.,  200.,\n",
       "        250.,  481.,  534.,  422.,  462.,  191.,  393.,  193.,  219.,\n",
       "        486.,  664.,  306.,  644.,  616.,  297.,  487.,  562.,  543.,\n",
       "        484.,  318.,  440.,  289.,  561.,  513.,  659.,  455.,  596.,\n",
       "        353.,  752.,  579.,  414.,  987.,  220.,  545.,  489.,  417.,\n",
       "        693.,  438.,  657.,  222.,  474.,  766.,  587.,  459.,  408.,\n",
       "        557.,  256.,  233.,  633.,  730.,  816.,  968.,  621.,  584.,\n",
       "        506.,  401.,  559.,  272.,  660.,  574.,  536.,  450.,  552.,\n",
       "        838.,  535.,  285.,  631.,  563.,  476.,  508.,  597.,  717.,\n",
       "        478.,  726.,  254.,  382., 1018.,  283.,  368.,  721.,  270.])"
      ]
     },
     "execution_count": 55,
     "metadata": {},
     "output_type": "execute_result"
    }
   ],
   "source": [
    "df_vehicle['scaled_variance.1'].unique()"
   ]
  },
  {
   "cell_type": "code",
   "execution_count": 56,
   "metadata": {},
   "outputs": [
    {
     "data": {
      "text/plain": [
       "439.49407582938386"
      ]
     },
     "execution_count": 56,
     "metadata": {},
     "output_type": "execute_result"
    }
   ],
   "source": [
    "df_vehicle['scaled_variance.1'].mean()"
   ]
  },
  {
   "cell_type": "code",
   "execution_count": 57,
   "metadata": {},
   "outputs": [],
   "source": [
    "df_vehicle['scaled_variance.1'].fillna(439.4,inplace=True)"
   ]
  },
  {
   "cell_type": "code",
   "execution_count": 58,
   "metadata": {},
   "outputs": [
    {
     "data": {
      "text/plain": [
       "174.70971563981044"
      ]
     },
     "execution_count": 58,
     "metadata": {},
     "output_type": "execute_result"
    }
   ],
   "source": [
    "df_vehicle['scaled_radius_of_gyration'].mean()"
   ]
  },
  {
   "cell_type": "code",
   "execution_count": 59,
   "metadata": {},
   "outputs": [],
   "source": [
    "df_vehicle['scaled_radius_of_gyration'].fillna(174.7,inplace=True)"
   ]
  },
  {
   "cell_type": "code",
   "execution_count": 60,
   "metadata": {},
   "outputs": [
    {
     "data": {
      "text/plain": [
       "72.44774346793349"
      ]
     },
     "execution_count": 60,
     "metadata": {},
     "output_type": "execute_result"
    }
   ],
   "source": [
    "df_vehicle['scaled_radius_of_gyration.1'].mean()"
   ]
  },
  {
   "cell_type": "code",
   "execution_count": 61,
   "metadata": {},
   "outputs": [],
   "source": [
    "df_vehicle['scaled_radius_of_gyration.1'].fillna(72.4,inplace=True)"
   ]
  },
  {
   "cell_type": "code",
   "execution_count": 62,
   "metadata": {},
   "outputs": [
    {
     "data": {
      "text/plain": [
       "6.364285714285714"
      ]
     },
     "execution_count": 62,
     "metadata": {},
     "output_type": "execute_result"
    }
   ],
   "source": [
    "df_vehicle['skewness_about'].mean()"
   ]
  },
  {
   "cell_type": "code",
   "execution_count": 63,
   "metadata": {},
   "outputs": [],
   "source": [
    "df_vehicle['skewness_about'].fillna(6.3,inplace=True)"
   ]
  },
  {
   "cell_type": "code",
   "execution_count": 64,
   "metadata": {},
   "outputs": [
    {
     "data": {
      "text/plain": [
       "12.602366863905326"
      ]
     },
     "execution_count": 64,
     "metadata": {},
     "output_type": "execute_result"
    }
   ],
   "source": [
    "df_vehicle['skewness_about.1'].mean()"
   ]
  },
  {
   "cell_type": "code",
   "execution_count": 65,
   "metadata": {},
   "outputs": [],
   "source": [
    "df_vehicle['skewness_about.1'].fillna(12.6,inplace=True)"
   ]
  },
  {
   "cell_type": "code",
   "execution_count": 66,
   "metadata": {},
   "outputs": [
    {
     "data": {
      "text/plain": [
       "188.91952662721894"
      ]
     },
     "execution_count": 66,
     "metadata": {},
     "output_type": "execute_result"
    }
   ],
   "source": [
    "df_vehicle['skewness_about.2'].mean()"
   ]
  },
  {
   "cell_type": "code",
   "execution_count": 67,
   "metadata": {},
   "outputs": [],
   "source": [
    "df_vehicle['skewness_about.2'].fillna(188.9,inplace=True)"
   ]
  },
  {
   "cell_type": "code",
   "execution_count": 68,
   "metadata": {},
   "outputs": [
    {
     "data": {
      "text/plain": [
       "compactness                    0\n",
       "circularity                    0\n",
       "distance_circularity           0\n",
       "radius_ratio                   0\n",
       "pr.axis_aspect_ratio           0\n",
       "max.length_aspect_ratio        0\n",
       "scatter_ratio                  0\n",
       "elongatedness                  0\n",
       "pr.axis_rectangularity         0\n",
       "max.length_rectangularity      0\n",
       "scaled_variance                0\n",
       "scaled_variance.1              0\n",
       "scaled_radius_of_gyration      0\n",
       "scaled_radius_of_gyration.1    0\n",
       "skewness_about                 0\n",
       "skewness_about.1               0\n",
       "skewness_about.2               0\n",
       "hollows_ratio                  0\n",
       "class                          0\n",
       "dtype: int64"
      ]
     },
     "execution_count": 68,
     "metadata": {},
     "output_type": "execute_result"
    }
   ],
   "source": [
    "df_vehicle.isnull().sum()"
   ]
  },
  {
   "cell_type": "markdown",
   "metadata": {
    "colab_type": "text",
    "id": "uOF7TxwQ_frt"
   },
   "source": [
    "### 4. Standardize the data "
   ]
  },
  {
   "cell_type": "code",
   "execution_count": 71,
   "metadata": {},
   "outputs": [],
   "source": [
    "from scipy.stats import zscore as zs"
   ]
  },
  {
   "cell_type": "code",
   "execution_count": 73,
   "metadata": {},
   "outputs": [
    {
     "data": {
      "text/plain": [
       "compactness                      int64\n",
       "circularity                    float64\n",
       "distance_circularity           float64\n",
       "radius_ratio                   float64\n",
       "pr.axis_aspect_ratio           float64\n",
       "max.length_aspect_ratio          int64\n",
       "scatter_ratio                  float64\n",
       "elongatedness                  float64\n",
       "pr.axis_rectangularity         float64\n",
       "max.length_rectangularity        int64\n",
       "scaled_variance                float64\n",
       "scaled_variance.1              float64\n",
       "scaled_radius_of_gyration      float64\n",
       "scaled_radius_of_gyration.1    float64\n",
       "skewness_about                 float64\n",
       "skewness_about.1               float64\n",
       "skewness_about.2               float64\n",
       "hollows_ratio                    int64\n",
       "class                           object\n",
       "dtype: object"
      ]
     },
     "execution_count": 73,
     "metadata": {},
     "output_type": "execute_result"
    }
   ],
   "source": [
    "df_vehicle.dtypes"
   ]
  },
  {
   "cell_type": "code",
   "execution_count": 75,
   "metadata": {},
   "outputs": [],
   "source": [
    "df_vehicle_X=df_vehicle.drop('class',axis=1)"
   ]
  },
  {
   "cell_type": "code",
   "execution_count": 76,
   "metadata": {},
   "outputs": [
    {
     "data": {
      "text/html": [
       "<div>\n",
       "<style scoped>\n",
       "    .dataframe tbody tr th:only-of-type {\n",
       "        vertical-align: middle;\n",
       "    }\n",
       "\n",
       "    .dataframe tbody tr th {\n",
       "        vertical-align: top;\n",
       "    }\n",
       "\n",
       "    .dataframe thead th {\n",
       "        text-align: right;\n",
       "    }\n",
       "</style>\n",
       "<table border=\"1\" class=\"dataframe\">\n",
       "  <thead>\n",
       "    <tr style=\"text-align: right;\">\n",
       "      <th></th>\n",
       "      <th>compactness</th>\n",
       "      <th>circularity</th>\n",
       "      <th>distance_circularity</th>\n",
       "      <th>radius_ratio</th>\n",
       "      <th>pr.axis_aspect_ratio</th>\n",
       "      <th>max.length_aspect_ratio</th>\n",
       "      <th>scatter_ratio</th>\n",
       "      <th>elongatedness</th>\n",
       "      <th>pr.axis_rectangularity</th>\n",
       "      <th>max.length_rectangularity</th>\n",
       "      <th>scaled_variance</th>\n",
       "      <th>scaled_variance.1</th>\n",
       "      <th>scaled_radius_of_gyration</th>\n",
       "      <th>scaled_radius_of_gyration.1</th>\n",
       "      <th>skewness_about</th>\n",
       "      <th>skewness_about.1</th>\n",
       "      <th>skewness_about.2</th>\n",
       "      <th>hollows_ratio</th>\n",
       "    </tr>\n",
       "  </thead>\n",
       "  <tbody>\n",
       "    <tr>\n",
       "      <td>0</td>\n",
       "      <td>95</td>\n",
       "      <td>48.0</td>\n",
       "      <td>83.0</td>\n",
       "      <td>178.0</td>\n",
       "      <td>72.0</td>\n",
       "      <td>10</td>\n",
       "      <td>162.0</td>\n",
       "      <td>42.0</td>\n",
       "      <td>20.0</td>\n",
       "      <td>159</td>\n",
       "      <td>176.0</td>\n",
       "      <td>379.0</td>\n",
       "      <td>184.0</td>\n",
       "      <td>70.0</td>\n",
       "      <td>6.0</td>\n",
       "      <td>16.0</td>\n",
       "      <td>187.0</td>\n",
       "      <td>197</td>\n",
       "    </tr>\n",
       "    <tr>\n",
       "      <td>1</td>\n",
       "      <td>91</td>\n",
       "      <td>41.0</td>\n",
       "      <td>84.0</td>\n",
       "      <td>141.0</td>\n",
       "      <td>57.0</td>\n",
       "      <td>9</td>\n",
       "      <td>149.0</td>\n",
       "      <td>45.0</td>\n",
       "      <td>19.0</td>\n",
       "      <td>143</td>\n",
       "      <td>170.0</td>\n",
       "      <td>330.0</td>\n",
       "      <td>158.0</td>\n",
       "      <td>72.0</td>\n",
       "      <td>9.0</td>\n",
       "      <td>14.0</td>\n",
       "      <td>189.0</td>\n",
       "      <td>199</td>\n",
       "    </tr>\n",
       "    <tr>\n",
       "      <td>2</td>\n",
       "      <td>104</td>\n",
       "      <td>50.0</td>\n",
       "      <td>106.0</td>\n",
       "      <td>209.0</td>\n",
       "      <td>66.0</td>\n",
       "      <td>10</td>\n",
       "      <td>207.0</td>\n",
       "      <td>32.0</td>\n",
       "      <td>23.0</td>\n",
       "      <td>158</td>\n",
       "      <td>223.0</td>\n",
       "      <td>635.0</td>\n",
       "      <td>220.0</td>\n",
       "      <td>73.0</td>\n",
       "      <td>14.0</td>\n",
       "      <td>9.0</td>\n",
       "      <td>188.0</td>\n",
       "      <td>196</td>\n",
       "    </tr>\n",
       "    <tr>\n",
       "      <td>3</td>\n",
       "      <td>93</td>\n",
       "      <td>41.0</td>\n",
       "      <td>82.0</td>\n",
       "      <td>159.0</td>\n",
       "      <td>63.0</td>\n",
       "      <td>9</td>\n",
       "      <td>144.0</td>\n",
       "      <td>46.0</td>\n",
       "      <td>19.0</td>\n",
       "      <td>143</td>\n",
       "      <td>160.0</td>\n",
       "      <td>309.0</td>\n",
       "      <td>127.0</td>\n",
       "      <td>63.0</td>\n",
       "      <td>6.0</td>\n",
       "      <td>10.0</td>\n",
       "      <td>199.0</td>\n",
       "      <td>207</td>\n",
       "    </tr>\n",
       "    <tr>\n",
       "      <td>4</td>\n",
       "      <td>85</td>\n",
       "      <td>44.0</td>\n",
       "      <td>70.0</td>\n",
       "      <td>205.0</td>\n",
       "      <td>103.0</td>\n",
       "      <td>52</td>\n",
       "      <td>149.0</td>\n",
       "      <td>45.0</td>\n",
       "      <td>19.0</td>\n",
       "      <td>144</td>\n",
       "      <td>241.0</td>\n",
       "      <td>325.0</td>\n",
       "      <td>188.0</td>\n",
       "      <td>127.0</td>\n",
       "      <td>9.0</td>\n",
       "      <td>11.0</td>\n",
       "      <td>180.0</td>\n",
       "      <td>183</td>\n",
       "    </tr>\n",
       "  </tbody>\n",
       "</table>\n",
       "</div>"
      ],
      "text/plain": [
       "   compactness  circularity  distance_circularity  radius_ratio  \\\n",
       "0           95         48.0                  83.0         178.0   \n",
       "1           91         41.0                  84.0         141.0   \n",
       "2          104         50.0                 106.0         209.0   \n",
       "3           93         41.0                  82.0         159.0   \n",
       "4           85         44.0                  70.0         205.0   \n",
       "\n",
       "   pr.axis_aspect_ratio  max.length_aspect_ratio  scatter_ratio  \\\n",
       "0                  72.0                       10          162.0   \n",
       "1                  57.0                        9          149.0   \n",
       "2                  66.0                       10          207.0   \n",
       "3                  63.0                        9          144.0   \n",
       "4                 103.0                       52          149.0   \n",
       "\n",
       "   elongatedness  pr.axis_rectangularity  max.length_rectangularity  \\\n",
       "0           42.0                    20.0                        159   \n",
       "1           45.0                    19.0                        143   \n",
       "2           32.0                    23.0                        158   \n",
       "3           46.0                    19.0                        143   \n",
       "4           45.0                    19.0                        144   \n",
       "\n",
       "   scaled_variance  scaled_variance.1  scaled_radius_of_gyration  \\\n",
       "0            176.0              379.0                      184.0   \n",
       "1            170.0              330.0                      158.0   \n",
       "2            223.0              635.0                      220.0   \n",
       "3            160.0              309.0                      127.0   \n",
       "4            241.0              325.0                      188.0   \n",
       "\n",
       "   scaled_radius_of_gyration.1  skewness_about  skewness_about.1  \\\n",
       "0                         70.0             6.0              16.0   \n",
       "1                         72.0             9.0              14.0   \n",
       "2                         73.0            14.0               9.0   \n",
       "3                         63.0             6.0              10.0   \n",
       "4                        127.0             9.0              11.0   \n",
       "\n",
       "   skewness_about.2  hollows_ratio  \n",
       "0             187.0            197  \n",
       "1             189.0            199  \n",
       "2             188.0            196  \n",
       "3             199.0            207  \n",
       "4             180.0            183  "
      ]
     },
     "execution_count": 76,
     "metadata": {},
     "output_type": "execute_result"
    }
   ],
   "source": [
    "df_vehicle_X.head()"
   ]
  },
  {
   "cell_type": "markdown",
   "metadata": {},
   "source": [
    "# label encoding"
   ]
  },
  {
   "cell_type": "code",
   "execution_count": 77,
   "metadata": {},
   "outputs": [],
   "source": [
    "from sklearn.preprocessing import LabelEncoder"
   ]
  },
  {
   "cell_type": "code",
   "execution_count": 78,
   "metadata": {},
   "outputs": [],
   "source": [
    "le=LabelEncoder()"
   ]
  },
  {
   "cell_type": "code",
   "execution_count": 79,
   "metadata": {},
   "outputs": [],
   "source": [
    "df_vehicle['class']=le.fit_transform(df_vehicle['class'])"
   ]
  },
  {
   "cell_type": "code",
   "execution_count": 80,
   "metadata": {},
   "outputs": [
    {
     "data": {
      "text/plain": [
       "1    429\n",
       "0    218\n",
       "2    199\n",
       "Name: class, dtype: int64"
      ]
     },
     "execution_count": 80,
     "metadata": {},
     "output_type": "execute_result"
    }
   ],
   "source": [
    "df_vehicle['class'].value_counts()"
   ]
  },
  {
   "cell_type": "code",
   "execution_count": 81,
   "metadata": {},
   "outputs": [
    {
     "data": {
      "text/html": [
       "<div>\n",
       "<style scoped>\n",
       "    .dataframe tbody tr th:only-of-type {\n",
       "        vertical-align: middle;\n",
       "    }\n",
       "\n",
       "    .dataframe tbody tr th {\n",
       "        vertical-align: top;\n",
       "    }\n",
       "\n",
       "    .dataframe thead th {\n",
       "        text-align: right;\n",
       "    }\n",
       "</style>\n",
       "<table border=\"1\" class=\"dataframe\">\n",
       "  <thead>\n",
       "    <tr style=\"text-align: right;\">\n",
       "      <th></th>\n",
       "      <th>compactness</th>\n",
       "      <th>circularity</th>\n",
       "      <th>distance_circularity</th>\n",
       "      <th>radius_ratio</th>\n",
       "      <th>pr.axis_aspect_ratio</th>\n",
       "      <th>max.length_aspect_ratio</th>\n",
       "      <th>scatter_ratio</th>\n",
       "      <th>elongatedness</th>\n",
       "      <th>pr.axis_rectangularity</th>\n",
       "      <th>max.length_rectangularity</th>\n",
       "      <th>scaled_variance</th>\n",
       "      <th>scaled_variance.1</th>\n",
       "      <th>scaled_radius_of_gyration</th>\n",
       "      <th>scaled_radius_of_gyration.1</th>\n",
       "      <th>skewness_about</th>\n",
       "      <th>skewness_about.1</th>\n",
       "      <th>skewness_about.2</th>\n",
       "      <th>hollows_ratio</th>\n",
       "      <th>class</th>\n",
       "    </tr>\n",
       "  </thead>\n",
       "  <tbody>\n",
       "    <tr>\n",
       "      <td>0</td>\n",
       "      <td>95</td>\n",
       "      <td>48.0</td>\n",
       "      <td>83.0</td>\n",
       "      <td>178.0</td>\n",
       "      <td>72.0</td>\n",
       "      <td>10</td>\n",
       "      <td>162.0</td>\n",
       "      <td>42.0</td>\n",
       "      <td>20.0</td>\n",
       "      <td>159</td>\n",
       "      <td>176.0</td>\n",
       "      <td>379.0</td>\n",
       "      <td>184.0</td>\n",
       "      <td>70.0</td>\n",
       "      <td>6.0</td>\n",
       "      <td>16.0</td>\n",
       "      <td>187.0</td>\n",
       "      <td>197</td>\n",
       "      <td>2</td>\n",
       "    </tr>\n",
       "    <tr>\n",
       "      <td>1</td>\n",
       "      <td>91</td>\n",
       "      <td>41.0</td>\n",
       "      <td>84.0</td>\n",
       "      <td>141.0</td>\n",
       "      <td>57.0</td>\n",
       "      <td>9</td>\n",
       "      <td>149.0</td>\n",
       "      <td>45.0</td>\n",
       "      <td>19.0</td>\n",
       "      <td>143</td>\n",
       "      <td>170.0</td>\n",
       "      <td>330.0</td>\n",
       "      <td>158.0</td>\n",
       "      <td>72.0</td>\n",
       "      <td>9.0</td>\n",
       "      <td>14.0</td>\n",
       "      <td>189.0</td>\n",
       "      <td>199</td>\n",
       "      <td>2</td>\n",
       "    </tr>\n",
       "    <tr>\n",
       "      <td>2</td>\n",
       "      <td>104</td>\n",
       "      <td>50.0</td>\n",
       "      <td>106.0</td>\n",
       "      <td>209.0</td>\n",
       "      <td>66.0</td>\n",
       "      <td>10</td>\n",
       "      <td>207.0</td>\n",
       "      <td>32.0</td>\n",
       "      <td>23.0</td>\n",
       "      <td>158</td>\n",
       "      <td>223.0</td>\n",
       "      <td>635.0</td>\n",
       "      <td>220.0</td>\n",
       "      <td>73.0</td>\n",
       "      <td>14.0</td>\n",
       "      <td>9.0</td>\n",
       "      <td>188.0</td>\n",
       "      <td>196</td>\n",
       "      <td>1</td>\n",
       "    </tr>\n",
       "    <tr>\n",
       "      <td>3</td>\n",
       "      <td>93</td>\n",
       "      <td>41.0</td>\n",
       "      <td>82.0</td>\n",
       "      <td>159.0</td>\n",
       "      <td>63.0</td>\n",
       "      <td>9</td>\n",
       "      <td>144.0</td>\n",
       "      <td>46.0</td>\n",
       "      <td>19.0</td>\n",
       "      <td>143</td>\n",
       "      <td>160.0</td>\n",
       "      <td>309.0</td>\n",
       "      <td>127.0</td>\n",
       "      <td>63.0</td>\n",
       "      <td>6.0</td>\n",
       "      <td>10.0</td>\n",
       "      <td>199.0</td>\n",
       "      <td>207</td>\n",
       "      <td>2</td>\n",
       "    </tr>\n",
       "    <tr>\n",
       "      <td>4</td>\n",
       "      <td>85</td>\n",
       "      <td>44.0</td>\n",
       "      <td>70.0</td>\n",
       "      <td>205.0</td>\n",
       "      <td>103.0</td>\n",
       "      <td>52</td>\n",
       "      <td>149.0</td>\n",
       "      <td>45.0</td>\n",
       "      <td>19.0</td>\n",
       "      <td>144</td>\n",
       "      <td>241.0</td>\n",
       "      <td>325.0</td>\n",
       "      <td>188.0</td>\n",
       "      <td>127.0</td>\n",
       "      <td>9.0</td>\n",
       "      <td>11.0</td>\n",
       "      <td>180.0</td>\n",
       "      <td>183</td>\n",
       "      <td>0</td>\n",
       "    </tr>\n",
       "  </tbody>\n",
       "</table>\n",
       "</div>"
      ],
      "text/plain": [
       "   compactness  circularity  distance_circularity  radius_ratio  \\\n",
       "0           95         48.0                  83.0         178.0   \n",
       "1           91         41.0                  84.0         141.0   \n",
       "2          104         50.0                 106.0         209.0   \n",
       "3           93         41.0                  82.0         159.0   \n",
       "4           85         44.0                  70.0         205.0   \n",
       "\n",
       "   pr.axis_aspect_ratio  max.length_aspect_ratio  scatter_ratio  \\\n",
       "0                  72.0                       10          162.0   \n",
       "1                  57.0                        9          149.0   \n",
       "2                  66.0                       10          207.0   \n",
       "3                  63.0                        9          144.0   \n",
       "4                 103.0                       52          149.0   \n",
       "\n",
       "   elongatedness  pr.axis_rectangularity  max.length_rectangularity  \\\n",
       "0           42.0                    20.0                        159   \n",
       "1           45.0                    19.0                        143   \n",
       "2           32.0                    23.0                        158   \n",
       "3           46.0                    19.0                        143   \n",
       "4           45.0                    19.0                        144   \n",
       "\n",
       "   scaled_variance  scaled_variance.1  scaled_radius_of_gyration  \\\n",
       "0            176.0              379.0                      184.0   \n",
       "1            170.0              330.0                      158.0   \n",
       "2            223.0              635.0                      220.0   \n",
       "3            160.0              309.0                      127.0   \n",
       "4            241.0              325.0                      188.0   \n",
       "\n",
       "   scaled_radius_of_gyration.1  skewness_about  skewness_about.1  \\\n",
       "0                         70.0             6.0              16.0   \n",
       "1                         72.0             9.0              14.0   \n",
       "2                         73.0            14.0               9.0   \n",
       "3                         63.0             6.0              10.0   \n",
       "4                        127.0             9.0              11.0   \n",
       "\n",
       "   skewness_about.2  hollows_ratio  class  \n",
       "0             187.0            197      2  \n",
       "1             189.0            199      2  \n",
       "2             188.0            196      1  \n",
       "3             199.0            207      2  \n",
       "4             180.0            183      0  "
      ]
     },
     "execution_count": 81,
     "metadata": {},
     "output_type": "execute_result"
    }
   ],
   "source": [
    "df_vehicle.head()"
   ]
  },
  {
   "cell_type": "markdown",
   "metadata": {
    "colab_type": "text",
    "id": "6kIiPrxN_frv"
   },
   "source": [
    "Since the dimensions of the data are not really known to us, it would be wise to standardize the data using z scores before we go for any clustering methods.\n",
    "You can use zscore function to do this"
   ]
  },
  {
   "cell_type": "markdown",
   "metadata": {
    "colab": {},
    "colab_type": "code",
    "id": "QvHHOVa7_fr_",
    "outputId": "25595edf-5f4c-4948-93dd-5466fdc613fb"
   },
   "source": [
    "# zscores"
   ]
  },
  {
   "cell_type": "code",
   "execution_count": 82,
   "metadata": {},
   "outputs": [],
   "source": [
    "df_vehicle_X_zs=df_vehicle_X.apply(zs)"
   ]
  },
  {
   "cell_type": "code",
   "execution_count": 83,
   "metadata": {},
   "outputs": [
    {
     "data": {
      "text/html": [
       "<div>\n",
       "<style scoped>\n",
       "    .dataframe tbody tr th:only-of-type {\n",
       "        vertical-align: middle;\n",
       "    }\n",
       "\n",
       "    .dataframe tbody tr th {\n",
       "        vertical-align: top;\n",
       "    }\n",
       "\n",
       "    .dataframe thead th {\n",
       "        text-align: right;\n",
       "    }\n",
       "</style>\n",
       "<table border=\"1\" class=\"dataframe\">\n",
       "  <thead>\n",
       "    <tr style=\"text-align: right;\">\n",
       "      <th></th>\n",
       "      <th>compactness</th>\n",
       "      <th>circularity</th>\n",
       "      <th>distance_circularity</th>\n",
       "      <th>radius_ratio</th>\n",
       "      <th>pr.axis_aspect_ratio</th>\n",
       "      <th>max.length_aspect_ratio</th>\n",
       "      <th>scatter_ratio</th>\n",
       "      <th>elongatedness</th>\n",
       "      <th>pr.axis_rectangularity</th>\n",
       "      <th>max.length_rectangularity</th>\n",
       "      <th>scaled_variance</th>\n",
       "      <th>scaled_variance.1</th>\n",
       "      <th>scaled_radius_of_gyration</th>\n",
       "      <th>scaled_radius_of_gyration.1</th>\n",
       "      <th>skewness_about</th>\n",
       "      <th>skewness_about.1</th>\n",
       "      <th>skewness_about.2</th>\n",
       "      <th>hollows_ratio</th>\n",
       "    </tr>\n",
       "  </thead>\n",
       "  <tbody>\n",
       "    <tr>\n",
       "      <td>0</td>\n",
       "      <td>0.160580</td>\n",
       "      <td>0.517302</td>\n",
       "      <td>0.056579</td>\n",
       "      <td>0.273153</td>\n",
       "      <td>1.310398</td>\n",
       "      <td>0.311542</td>\n",
       "      <td>-0.208006</td>\n",
       "      <td>0.13672</td>\n",
       "      <td>-0.225047</td>\n",
       "      <td>0.758332</td>\n",
       "      <td>-0.403073</td>\n",
       "      <td>-0.343026</td>\n",
       "      <td>0.285618</td>\n",
       "      <td>-0.327908</td>\n",
       "      <td>-0.074247</td>\n",
       "      <td>0.380666</td>\n",
       "      <td>-0.312189</td>\n",
       "      <td>0.183957</td>\n",
       "    </tr>\n",
       "    <tr>\n",
       "      <td>1</td>\n",
       "      <td>-0.325470</td>\n",
       "      <td>-0.624564</td>\n",
       "      <td>0.120145</td>\n",
       "      <td>-0.835252</td>\n",
       "      <td>-0.593753</td>\n",
       "      <td>0.094079</td>\n",
       "      <td>-0.599860</td>\n",
       "      <td>0.52099</td>\n",
       "      <td>-0.611625</td>\n",
       "      <td>-0.344578</td>\n",
       "      <td>-0.594542</td>\n",
       "      <td>-0.620878</td>\n",
       "      <td>-0.513718</td>\n",
       "      <td>-0.059957</td>\n",
       "      <td>0.537966</td>\n",
       "      <td>0.156589</td>\n",
       "      <td>0.013092</td>\n",
       "      <td>0.452977</td>\n",
       "    </tr>\n",
       "    <tr>\n",
       "      <td>2</td>\n",
       "      <td>1.254193</td>\n",
       "      <td>0.843549</td>\n",
       "      <td>1.518604</td>\n",
       "      <td>1.201816</td>\n",
       "      <td>0.548738</td>\n",
       "      <td>0.311542</td>\n",
       "      <td>1.148414</td>\n",
       "      <td>-1.14418</td>\n",
       "      <td>0.934687</td>\n",
       "      <td>0.689401</td>\n",
       "      <td>1.096768</td>\n",
       "      <td>1.108604</td>\n",
       "      <td>1.392392</td>\n",
       "      <td>0.074019</td>\n",
       "      <td>1.558322</td>\n",
       "      <td>-0.403603</td>\n",
       "      <td>-0.149549</td>\n",
       "      <td>0.049447</td>\n",
       "    </tr>\n",
       "    <tr>\n",
       "      <td>3</td>\n",
       "      <td>-0.082445</td>\n",
       "      <td>-0.624564</td>\n",
       "      <td>-0.006988</td>\n",
       "      <td>-0.296028</td>\n",
       "      <td>0.167907</td>\n",
       "      <td>0.094079</td>\n",
       "      <td>-0.750573</td>\n",
       "      <td>0.64908</td>\n",
       "      <td>-0.611625</td>\n",
       "      <td>-0.344578</td>\n",
       "      <td>-0.913657</td>\n",
       "      <td>-0.739957</td>\n",
       "      <td>-1.466773</td>\n",
       "      <td>-1.265739</td>\n",
       "      <td>-0.074247</td>\n",
       "      <td>-0.291565</td>\n",
       "      <td>1.639497</td>\n",
       "      <td>1.529056</td>\n",
       "    </tr>\n",
       "    <tr>\n",
       "      <td>4</td>\n",
       "      <td>-1.054545</td>\n",
       "      <td>-0.135193</td>\n",
       "      <td>-0.769784</td>\n",
       "      <td>1.081989</td>\n",
       "      <td>5.245643</td>\n",
       "      <td>9.444962</td>\n",
       "      <td>-0.599860</td>\n",
       "      <td>0.52099</td>\n",
       "      <td>-0.611625</td>\n",
       "      <td>-0.275646</td>\n",
       "      <td>1.671175</td>\n",
       "      <td>-0.649230</td>\n",
       "      <td>0.408593</td>\n",
       "      <td>7.308711</td>\n",
       "      <td>0.537966</td>\n",
       "      <td>-0.179526</td>\n",
       "      <td>-1.450673</td>\n",
       "      <td>-1.699181</td>\n",
       "    </tr>\n",
       "  </tbody>\n",
       "</table>\n",
       "</div>"
      ],
      "text/plain": [
       "   compactness  circularity  distance_circularity  radius_ratio  \\\n",
       "0     0.160580     0.517302              0.056579      0.273153   \n",
       "1    -0.325470    -0.624564              0.120145     -0.835252   \n",
       "2     1.254193     0.843549              1.518604      1.201816   \n",
       "3    -0.082445    -0.624564             -0.006988     -0.296028   \n",
       "4    -1.054545    -0.135193             -0.769784      1.081989   \n",
       "\n",
       "   pr.axis_aspect_ratio  max.length_aspect_ratio  scatter_ratio  \\\n",
       "0              1.310398                 0.311542      -0.208006   \n",
       "1             -0.593753                 0.094079      -0.599860   \n",
       "2              0.548738                 0.311542       1.148414   \n",
       "3              0.167907                 0.094079      -0.750573   \n",
       "4              5.245643                 9.444962      -0.599860   \n",
       "\n",
       "   elongatedness  pr.axis_rectangularity  max.length_rectangularity  \\\n",
       "0        0.13672               -0.225047                   0.758332   \n",
       "1        0.52099               -0.611625                  -0.344578   \n",
       "2       -1.14418                0.934687                   0.689401   \n",
       "3        0.64908               -0.611625                  -0.344578   \n",
       "4        0.52099               -0.611625                  -0.275646   \n",
       "\n",
       "   scaled_variance  scaled_variance.1  scaled_radius_of_gyration  \\\n",
       "0        -0.403073          -0.343026                   0.285618   \n",
       "1        -0.594542          -0.620878                  -0.513718   \n",
       "2         1.096768           1.108604                   1.392392   \n",
       "3        -0.913657          -0.739957                  -1.466773   \n",
       "4         1.671175          -0.649230                   0.408593   \n",
       "\n",
       "   scaled_radius_of_gyration.1  skewness_about  skewness_about.1  \\\n",
       "0                    -0.327908       -0.074247          0.380666   \n",
       "1                    -0.059957        0.537966          0.156589   \n",
       "2                     0.074019        1.558322         -0.403603   \n",
       "3                    -1.265739       -0.074247         -0.291565   \n",
       "4                     7.308711        0.537966         -0.179526   \n",
       "\n",
       "   skewness_about.2  hollows_ratio  \n",
       "0         -0.312189       0.183957  \n",
       "1          0.013092       0.452977  \n",
       "2         -0.149549       0.049447  \n",
       "3          1.639497       1.529056  \n",
       "4         -1.450673      -1.699181  "
      ]
     },
     "execution_count": 83,
     "metadata": {},
     "output_type": "execute_result"
    }
   ],
   "source": [
    "df_vehicle_X_zs.head()"
   ]
  },
  {
   "cell_type": "markdown",
   "metadata": {
    "colab_type": "text",
    "id": "wYh90u-g_fsF"
   },
   "source": [
    "### K - Means Clustering"
   ]
  },
  {
   "cell_type": "markdown",
   "metadata": {
    "colab_type": "text",
    "id": "6UfbOSle_fsF"
   },
   "source": [
    "### 5. Assign a dummy array called distortion"
   ]
  },
  {
   "cell_type": "markdown",
   "metadata": {
    "colab_type": "text",
    "id": "zvp3u_Sr_fsG"
   },
   "source": [
    "You can later use this array to plot the elbow plot"
   ]
  },
  {
   "cell_type": "code",
   "execution_count": 87,
   "metadata": {
    "colab": {},
    "colab_type": "code",
    "id": "da4KgLpj_fsJ"
   },
   "outputs": [],
   "source": [
    "kmeans=KMeans(n_clusters=10)"
   ]
  },
  {
   "cell_type": "markdown",
   "metadata": {
    "colab_type": "text",
    "id": "LddyFnZW_fsO"
   },
   "source": [
    "### 6. Calculating distortion - C distance"
   ]
  },
  {
   "cell_type": "markdown",
   "metadata": {
    "colab_type": "text",
    "id": "fwxCYkN6_fsP"
   },
   "source": [
    "Iterating values of k from 1 to 10 fit K means model\n",
    "Using c distance - Get the measure for Sum of squares error."
   ]
  },
  {
   "cell_type": "markdown",
   "metadata": {
    "colab_type": "text",
    "id": "R1NEP9ah_fsP"
   },
   "source": [
    "**Here, logically K-Means attempts to minimize distortion defined by the the sum of the squared distances between each observation and its closest centroid.**"
   ]
  },
  {
   "cell_type": "code",
   "execution_count": 88,
   "metadata": {
    "colab": {},
    "colab_type": "code",
    "id": "NDTS685e_fsQ"
   },
   "outputs": [
    {
     "data": {
      "text/plain": [
       "KMeans(algorithm='auto', copy_x=True, init='k-means++', max_iter=300,\n",
       "       n_clusters=10, n_init=10, n_jobs=None, precompute_distances='auto',\n",
       "       random_state=None, tol=0.0001, verbose=0)"
      ]
     },
     "execution_count": 88,
     "metadata": {},
     "output_type": "execute_result"
    }
   ],
   "source": [
    "kmeans.fit(df_vehicle_X_zs)"
   ]
  },
  {
   "cell_type": "markdown",
   "metadata": {},
   "source": [
    "# centroids"
   ]
  },
  {
   "cell_type": "code",
   "execution_count": 86,
   "metadata": {},
   "outputs": [
    {
     "data": {
      "text/html": [
       "<div>\n",
       "<style scoped>\n",
       "    .dataframe tbody tr th:only-of-type {\n",
       "        vertical-align: middle;\n",
       "    }\n",
       "\n",
       "    .dataframe tbody tr th {\n",
       "        vertical-align: top;\n",
       "    }\n",
       "\n",
       "    .dataframe thead th {\n",
       "        text-align: right;\n",
       "    }\n",
       "</style>\n",
       "<table border=\"1\" class=\"dataframe\">\n",
       "  <thead>\n",
       "    <tr style=\"text-align: right;\">\n",
       "      <th></th>\n",
       "      <th>compactness</th>\n",
       "      <th>circularity</th>\n",
       "      <th>distance_circularity</th>\n",
       "      <th>radius_ratio</th>\n",
       "      <th>pr.axis_aspect_ratio</th>\n",
       "      <th>max.length_aspect_ratio</th>\n",
       "      <th>scatter_ratio</th>\n",
       "      <th>elongatedness</th>\n",
       "      <th>pr.axis_rectangularity</th>\n",
       "      <th>max.length_rectangularity</th>\n",
       "      <th>scaled_variance</th>\n",
       "      <th>scaled_variance.1</th>\n",
       "      <th>scaled_radius_of_gyration</th>\n",
       "      <th>scaled_radius_of_gyration.1</th>\n",
       "      <th>skewness_about</th>\n",
       "      <th>skewness_about.1</th>\n",
       "      <th>skewness_about.2</th>\n",
       "      <th>hollows_ratio</th>\n",
       "    </tr>\n",
       "  </thead>\n",
       "  <tbody>\n",
       "    <tr>\n",
       "      <td>0</td>\n",
       "      <td>-0.378047</td>\n",
       "      <td>-0.834743</td>\n",
       "      <td>-0.799122</td>\n",
       "      <td>-0.551813</td>\n",
       "      <td>-0.137245</td>\n",
       "      <td>-0.221659</td>\n",
       "      <td>-0.988237</td>\n",
       "      <td>1.019803</td>\n",
       "      <td>-0.944305</td>\n",
       "      <td>-0.728343</td>\n",
       "      <td>-0.968889</td>\n",
       "      <td>-0.907452</td>\n",
       "      <td>-0.889441</td>\n",
       "      <td>-0.914052</td>\n",
       "      <td>0.269142</td>\n",
       "      <td>-0.456390</td>\n",
       "      <td>1.176441</td>\n",
       "      <td>0.945749</td>\n",
       "    </tr>\n",
       "    <tr>\n",
       "      <td>1</td>\n",
       "      <td>1.593590</td>\n",
       "      <td>1.499743</td>\n",
       "      <td>1.231460</td>\n",
       "      <td>0.584085</td>\n",
       "      <td>-0.725074</td>\n",
       "      <td>-0.618297</td>\n",
       "      <td>2.267850</td>\n",
       "      <td>-1.740462</td>\n",
       "      <td>2.361026</td>\n",
       "      <td>1.309788</td>\n",
       "      <td>2.519581</td>\n",
       "      <td>2.506464</td>\n",
       "      <td>2.052852</td>\n",
       "      <td>1.436876</td>\n",
       "      <td>0.003159</td>\n",
       "      <td>0.202950</td>\n",
       "      <td>-0.884235</td>\n",
       "      <td>-1.555394</td>\n",
       "    </tr>\n",
       "    <tr>\n",
       "      <td>2</td>\n",
       "      <td>-0.727064</td>\n",
       "      <td>-0.033385</td>\n",
       "      <td>-0.344205</td>\n",
       "      <td>-0.567977</td>\n",
       "      <td>-0.013955</td>\n",
       "      <td>0.016965</td>\n",
       "      <td>-0.494040</td>\n",
       "      <td>0.397443</td>\n",
       "      <td>-0.501957</td>\n",
       "      <td>0.060702</td>\n",
       "      <td>-0.471649</td>\n",
       "      <td>-0.540245</td>\n",
       "      <td>-0.004593</td>\n",
       "      <td>0.258735</td>\n",
       "      <td>-0.253280</td>\n",
       "      <td>-0.444128</td>\n",
       "      <td>-0.609787</td>\n",
       "      <td>-0.408458</td>\n",
       "    </tr>\n",
       "    <tr>\n",
       "      <td>3</td>\n",
       "      <td>-0.735574</td>\n",
       "      <td>0.068712</td>\n",
       "      <td>-0.277145</td>\n",
       "      <td>2.973016</td>\n",
       "      <td>6.927642</td>\n",
       "      <td>8.846940</td>\n",
       "      <td>-0.543343</td>\n",
       "      <td>0.472957</td>\n",
       "      <td>-0.563303</td>\n",
       "      <td>0.275809</td>\n",
       "      <td>1.679153</td>\n",
       "      <td>-0.590399</td>\n",
       "      <td>0.197230</td>\n",
       "      <td>4.964135</td>\n",
       "      <td>-0.278318</td>\n",
       "      <td>-0.221541</td>\n",
       "      <td>-0.698460</td>\n",
       "      <td>-0.438151</td>\n",
       "    </tr>\n",
       "    <tr>\n",
       "      <td>4</td>\n",
       "      <td>-0.997786</td>\n",
       "      <td>-0.821324</td>\n",
       "      <td>-1.157873</td>\n",
       "      <td>-1.313379</td>\n",
       "      <td>-0.812563</td>\n",
       "      <td>-0.495358</td>\n",
       "      <td>-0.921316</td>\n",
       "      <td>1.101609</td>\n",
       "      <td>-0.877397</td>\n",
       "      <td>-0.842067</td>\n",
       "      <td>-0.969503</td>\n",
       "      <td>-0.903504</td>\n",
       "      <td>-0.625487</td>\n",
       "      <td>1.007266</td>\n",
       "      <td>0.003488</td>\n",
       "      <td>-0.178789</td>\n",
       "      <td>-1.231322</td>\n",
       "      <td>-1.396533</td>\n",
       "    </tr>\n",
       "    <tr>\n",
       "      <td>5</td>\n",
       "      <td>0.311956</td>\n",
       "      <td>0.186907</td>\n",
       "      <td>0.301686</td>\n",
       "      <td>0.641521</td>\n",
       "      <td>0.429325</td>\n",
       "      <td>-0.060724</td>\n",
       "      <td>0.189469</td>\n",
       "      <td>-0.415804</td>\n",
       "      <td>0.135322</td>\n",
       "      <td>0.099390</td>\n",
       "      <td>0.218282</td>\n",
       "      <td>0.143977</td>\n",
       "      <td>0.100375</td>\n",
       "      <td>-0.608349</td>\n",
       "      <td>0.160262</td>\n",
       "      <td>-0.170981</td>\n",
       "      <td>0.853861</td>\n",
       "      <td>0.675260</td>\n",
       "    </tr>\n",
       "    <tr>\n",
       "      <td>6</td>\n",
       "      <td>-0.242738</td>\n",
       "      <td>-1.100052</td>\n",
       "      <td>-0.206478</td>\n",
       "      <td>0.177546</td>\n",
       "      <td>0.247585</td>\n",
       "      <td>-0.259875</td>\n",
       "      <td>-0.302602</td>\n",
       "      <td>0.098566</td>\n",
       "      <td>-0.368985</td>\n",
       "      <td>-1.080096</td>\n",
       "      <td>-0.212758</td>\n",
       "      <td>-0.331927</td>\n",
       "      <td>-1.111585</td>\n",
       "      <td>-0.632347</td>\n",
       "      <td>-0.619160</td>\n",
       "      <td>0.965887</td>\n",
       "      <td>0.859169</td>\n",
       "      <td>0.734875</td>\n",
       "    </tr>\n",
       "    <tr>\n",
       "      <td>7</td>\n",
       "      <td>1.195867</td>\n",
       "      <td>1.268347</td>\n",
       "      <td>1.289765</td>\n",
       "      <td>1.019978</td>\n",
       "      <td>0.157117</td>\n",
       "      <td>0.373519</td>\n",
       "      <td>1.285714</td>\n",
       "      <td>-1.215270</td>\n",
       "      <td>1.285506</td>\n",
       "      <td>1.223967</td>\n",
       "      <td>1.111862</td>\n",
       "      <td>1.270648</td>\n",
       "      <td>1.098790</td>\n",
       "      <td>-0.223407</td>\n",
       "      <td>0.243083</td>\n",
       "      <td>0.312658</td>\n",
       "      <td>0.002520</td>\n",
       "      <td>0.356802</td>\n",
       "    </tr>\n",
       "  </tbody>\n",
       "</table>\n",
       "</div>"
      ],
      "text/plain": [
       "   compactness  circularity  distance_circularity  radius_ratio  \\\n",
       "0    -0.378047    -0.834743             -0.799122     -0.551813   \n",
       "1     1.593590     1.499743              1.231460      0.584085   \n",
       "2    -0.727064    -0.033385             -0.344205     -0.567977   \n",
       "3    -0.735574     0.068712             -0.277145      2.973016   \n",
       "4    -0.997786    -0.821324             -1.157873     -1.313379   \n",
       "5     0.311956     0.186907              0.301686      0.641521   \n",
       "6    -0.242738    -1.100052             -0.206478      0.177546   \n",
       "7     1.195867     1.268347              1.289765      1.019978   \n",
       "\n",
       "   pr.axis_aspect_ratio  max.length_aspect_ratio  scatter_ratio  \\\n",
       "0             -0.137245                -0.221659      -0.988237   \n",
       "1             -0.725074                -0.618297       2.267850   \n",
       "2             -0.013955                 0.016965      -0.494040   \n",
       "3              6.927642                 8.846940      -0.543343   \n",
       "4             -0.812563                -0.495358      -0.921316   \n",
       "5              0.429325                -0.060724       0.189469   \n",
       "6              0.247585                -0.259875      -0.302602   \n",
       "7              0.157117                 0.373519       1.285714   \n",
       "\n",
       "   elongatedness  pr.axis_rectangularity  max.length_rectangularity  \\\n",
       "0       1.019803               -0.944305                  -0.728343   \n",
       "1      -1.740462                2.361026                   1.309788   \n",
       "2       0.397443               -0.501957                   0.060702   \n",
       "3       0.472957               -0.563303                   0.275809   \n",
       "4       1.101609               -0.877397                  -0.842067   \n",
       "5      -0.415804                0.135322                   0.099390   \n",
       "6       0.098566               -0.368985                  -1.080096   \n",
       "7      -1.215270                1.285506                   1.223967   \n",
       "\n",
       "   scaled_variance  scaled_variance.1  scaled_radius_of_gyration  \\\n",
       "0        -0.968889          -0.907452                  -0.889441   \n",
       "1         2.519581           2.506464                   2.052852   \n",
       "2        -0.471649          -0.540245                  -0.004593   \n",
       "3         1.679153          -0.590399                   0.197230   \n",
       "4        -0.969503          -0.903504                  -0.625487   \n",
       "5         0.218282           0.143977                   0.100375   \n",
       "6        -0.212758          -0.331927                  -1.111585   \n",
       "7         1.111862           1.270648                   1.098790   \n",
       "\n",
       "   scaled_radius_of_gyration.1  skewness_about  skewness_about.1  \\\n",
       "0                    -0.914052        0.269142         -0.456390   \n",
       "1                     1.436876        0.003159          0.202950   \n",
       "2                     0.258735       -0.253280         -0.444128   \n",
       "3                     4.964135       -0.278318         -0.221541   \n",
       "4                     1.007266        0.003488         -0.178789   \n",
       "5                    -0.608349        0.160262         -0.170981   \n",
       "6                    -0.632347       -0.619160          0.965887   \n",
       "7                    -0.223407        0.243083          0.312658   \n",
       "\n",
       "   skewness_about.2  hollows_ratio  \n",
       "0          1.176441       0.945749  \n",
       "1         -0.884235      -1.555394  \n",
       "2         -0.609787      -0.408458  \n",
       "3         -0.698460      -0.438151  \n",
       "4         -1.231322      -1.396533  \n",
       "5          0.853861       0.675260  \n",
       "6          0.859169       0.734875  \n",
       "7          0.002520       0.356802  "
      ]
     },
     "execution_count": 86,
     "metadata": {},
     "output_type": "execute_result"
    }
   ],
   "source": [
    "centroids = kmeans.cluster_centers_\n",
    "centroid_df = pd.DataFrame(centroids, columns = list(df_vehicle_X_zs))\n",
    "centroid_df"
   ]
  },
  {
   "cell_type": "markdown",
   "metadata": {},
   "source": [
    "# inertia"
   ]
  },
  {
   "cell_type": "code",
   "execution_count": 93,
   "metadata": {},
   "outputs": [
    {
     "data": {
      "text/html": [
       "<div>\n",
       "<style scoped>\n",
       "    .dataframe tbody tr th:only-of-type {\n",
       "        vertical-align: middle;\n",
       "    }\n",
       "\n",
       "    .dataframe tbody tr th {\n",
       "        vertical-align: top;\n",
       "    }\n",
       "\n",
       "    .dataframe thead th {\n",
       "        text-align: right;\n",
       "    }\n",
       "</style>\n",
       "<table border=\"1\" class=\"dataframe\">\n",
       "  <thead>\n",
       "    <tr style=\"text-align: right;\">\n",
       "      <th></th>\n",
       "      <th>num_clusters</th>\n",
       "      <th>cluster_errors</th>\n",
       "    </tr>\n",
       "  </thead>\n",
       "  <tbody>\n",
       "    <tr>\n",
       "      <td>0</td>\n",
       "      <td>1</td>\n",
       "      <td>15228.000000</td>\n",
       "    </tr>\n",
       "    <tr>\n",
       "      <td>1</td>\n",
       "      <td>2</td>\n",
       "      <td>8991.091195</td>\n",
       "    </tr>\n",
       "    <tr>\n",
       "      <td>2</td>\n",
       "      <td>3</td>\n",
       "      <td>7336.802665</td>\n",
       "    </tr>\n",
       "    <tr>\n",
       "      <td>3</td>\n",
       "      <td>4</td>\n",
       "      <td>6008.753113</td>\n",
       "    </tr>\n",
       "    <tr>\n",
       "      <td>4</td>\n",
       "      <td>5</td>\n",
       "      <td>5434.096476</td>\n",
       "    </tr>\n",
       "    <tr>\n",
       "      <td>5</td>\n",
       "      <td>6</td>\n",
       "      <td>4956.848761</td>\n",
       "    </tr>\n",
       "    <tr>\n",
       "      <td>6</td>\n",
       "      <td>7</td>\n",
       "      <td>4557.780150</td>\n",
       "    </tr>\n",
       "    <tr>\n",
       "      <td>7</td>\n",
       "      <td>8</td>\n",
       "      <td>4274.219634</td>\n",
       "    </tr>\n",
       "    <tr>\n",
       "      <td>8</td>\n",
       "      <td>9</td>\n",
       "      <td>4027.309635</td>\n",
       "    </tr>\n",
       "    <tr>\n",
       "      <td>9</td>\n",
       "      <td>10</td>\n",
       "      <td>3814.069615</td>\n",
       "    </tr>\n",
       "  </tbody>\n",
       "</table>\n",
       "</div>"
      ],
      "text/plain": [
       "   num_clusters  cluster_errors\n",
       "0             1    15228.000000\n",
       "1             2     8991.091195\n",
       "2             3     7336.802665\n",
       "3             4     6008.753113\n",
       "4             5     5434.096476\n",
       "5             6     4956.848761\n",
       "6             7     4557.780150\n",
       "7             8     4274.219634\n",
       "8             9     4027.309635\n",
       "9            10     3814.069615"
      ]
     },
     "execution_count": 93,
     "metadata": {},
     "output_type": "execute_result"
    }
   ],
   "source": [
    "cluster_range=range(1,11)\n",
    "cluster_errors=[]\n",
    "for num_clusters in cluster_range:\n",
    "    clusters=KMeans(num_clusters,n_init=10)\n",
    "    clusters.fit(df_vehicle_X_zs)\n",
    "    labels=clusters.labels_\n",
    "    centroids=clusters.cluster_centers_\n",
    "    cluster_errors.append(clusters.inertia_)\n",
    "clusters_df=pd.DataFrame({'num_clusters':cluster_range,'cluster_errors':cluster_errors})\n",
    "clusters_df[0:15]\n",
    "    "
   ]
  },
  {
   "cell_type": "code",
   "execution_count": null,
   "metadata": {},
   "outputs": [],
   "source": []
  },
  {
   "cell_type": "markdown",
   "metadata": {
    "colab_type": "text",
    "id": "NdomoKhf_fsS"
   },
   "source": [
    "### 7. Plotting Elbow/ Scree Plot"
   ]
  },
  {
   "cell_type": "markdown",
   "metadata": {
    "colab_type": "text",
    "id": "ehzz3z6q_fsT"
   },
   "source": [
    "Use Matplotlib to plot the scree plot - Note: Scree plot plots distortion vs the no of clusters"
   ]
  },
  {
   "cell_type": "code",
   "execution_count": 94,
   "metadata": {
    "colab": {},
    "colab_type": "code",
    "id": "v1xh8XxP_fsU",
    "outputId": "72d4f5de-7ca3-4d04-b196-1e499aa160d5"
   },
   "outputs": [
    {
     "data": {
      "image/png": "[encoded data removed]",
      "text/plain": [
       "<Figure size 864x720 with 1 Axes>"
      ]
     },
     "metadata": {
      "needs_background": "light"
     },
     "output_type": "display_data"
    }
   ],
   "source": [
    "plt.figure(figsize=(12,10))\n",
    "plt.plot(clusters_df.num_clusters,clusters_df.cluster_errors,marker='o')\n",
    "plt.show()"
   ]
  },
  {
   "cell_type": "markdown",
   "metadata": {
    "colab_type": "text",
    "id": "w_EZbvnu_fsX"
   },
   "source": [
    "### 8. Find out the optimal value of K"
   ]
  },
  {
   "cell_type": "code",
   "execution_count": 95,
   "metadata": {
    "colab_type": "text",
    "id": "e9cQ8I4c_fsY"
   },
   "outputs": [],
   "source": [
    "kmeans1=KMeans(n_clusters=5,n_init=15)"
   ]
  },
  {
   "cell_type": "markdown",
   "metadata": {
    "colab_type": "text",
    "id": "Sc-xTeaI_fsY"
   },
   "source": [
    "### 9. Using optimal value of K - Cluster the data. \n",
    "Note: Since the data has more than 2 dimension we cannot visualize the data. As an alternative, we can observe the centroids and note how they are distributed across different dimensions"
   ]
  },
  {
   "cell_type": "code",
   "execution_count": 96,
   "metadata": {
    "colab": {},
    "colab_type": "code",
    "id": "0Eb4xoNi_fsZ"
   },
   "outputs": [
    {
     "data": {
      "text/plain": [
       "KMeans(algorithm='auto', copy_x=True, init='k-means++', max_iter=300,\n",
       "       n_clusters=5, n_init=15, n_jobs=None, precompute_distances='auto',\n",
       "       random_state=None, tol=0.0001, verbose=0)"
      ]
     },
     "execution_count": 96,
     "metadata": {},
     "output_type": "execute_result"
    }
   ],
   "source": [
    "kmeans1.fit(df_vehicle_X_zs)"
   ]
  },
  {
   "cell_type": "markdown",
   "metadata": {
    "colab_type": "text",
    "id": "lek8vZ_f_fsh"
   },
   "source": [
    "### 10. Store the centroids in a dataframe with column names from the original dataset given "
   ]
  },
  {
   "cell_type": "markdown",
   "metadata": {
    "colab_type": "text",
    "id": "m5AoR2Dz_fsj"
   },
   "source": [
    "Hint: Use pd.Dataframe function "
   ]
  },
  {
   "cell_type": "code",
   "execution_count": 97,
   "metadata": {
    "colab": {},
    "colab_type": "code",
    "id": "pqsmQ0iQ_fsn",
    "outputId": "33112068-44e2-42d1-af97-576ed961b84e"
   },
   "outputs": [
    {
     "data": {
      "text/html": [
       "<div>\n",
       "<style scoped>\n",
       "    .dataframe tbody tr th:only-of-type {\n",
       "        vertical-align: middle;\n",
       "    }\n",
       "\n",
       "    .dataframe tbody tr th {\n",
       "        vertical-align: top;\n",
       "    }\n",
       "\n",
       "    .dataframe thead th {\n",
       "        text-align: right;\n",
       "    }\n",
       "</style>\n",
       "<table border=\"1\" class=\"dataframe\">\n",
       "  <thead>\n",
       "    <tr style=\"text-align: right;\">\n",
       "      <th></th>\n",
       "      <th>compactness</th>\n",
       "      <th>circularity</th>\n",
       "      <th>distance_circularity</th>\n",
       "      <th>radius_ratio</th>\n",
       "      <th>pr.axis_aspect_ratio</th>\n",
       "      <th>max.length_aspect_ratio</th>\n",
       "      <th>scatter_ratio</th>\n",
       "      <th>elongatedness</th>\n",
       "      <th>pr.axis_rectangularity</th>\n",
       "      <th>max.length_rectangularity</th>\n",
       "      <th>scaled_variance</th>\n",
       "      <th>scaled_variance.1</th>\n",
       "      <th>scaled_radius_of_gyration</th>\n",
       "      <th>scaled_radius_of_gyration.1</th>\n",
       "      <th>skewness_about</th>\n",
       "      <th>skewness_about.1</th>\n",
       "      <th>skewness_about.2</th>\n",
       "      <th>hollows_ratio</th>\n",
       "    </tr>\n",
       "  </thead>\n",
       "  <tbody>\n",
       "    <tr>\n",
       "      <td>0</td>\n",
       "      <td>-0.022586</td>\n",
       "      <td>0.011056</td>\n",
       "      <td>0.092276</td>\n",
       "      <td>0.215158</td>\n",
       "      <td>0.269212</td>\n",
       "      <td>-0.041968</td>\n",
       "      <td>-0.078823</td>\n",
       "      <td>-0.117567</td>\n",
       "      <td>-0.126022</td>\n",
       "      <td>0.000081</td>\n",
       "      <td>-0.038748</td>\n",
       "      <td>-0.124561</td>\n",
       "      <td>-0.006371</td>\n",
       "      <td>-0.347443</td>\n",
       "      <td>0.079460</td>\n",
       "      <td>-0.153586</td>\n",
       "      <td>0.388047</td>\n",
       "      <td>0.367500</td>\n",
       "    </tr>\n",
       "    <tr>\n",
       "      <td>1</td>\n",
       "      <td>1.222802</td>\n",
       "      <td>1.261205</td>\n",
       "      <td>1.276522</td>\n",
       "      <td>0.971273</td>\n",
       "      <td>0.054187</td>\n",
       "      <td>0.249928</td>\n",
       "      <td>1.381140</td>\n",
       "      <td>-1.264265</td>\n",
       "      <td>1.391332</td>\n",
       "      <td>1.196337</td>\n",
       "      <td>1.267441</td>\n",
       "      <td>1.392547</td>\n",
       "      <td>1.177314</td>\n",
       "      <td>-0.051025</td>\n",
       "      <td>0.184243</td>\n",
       "      <td>0.279178</td>\n",
       "      <td>-0.077716</td>\n",
       "      <td>0.145286</td>\n",
       "    </tr>\n",
       "    <tr>\n",
       "      <td>2</td>\n",
       "      <td>-1.000416</td>\n",
       "      <td>-0.604057</td>\n",
       "      <td>-0.997178</td>\n",
       "      <td>-1.139586</td>\n",
       "      <td>-0.585098</td>\n",
       "      <td>-0.374453</td>\n",
       "      <td>-0.817983</td>\n",
       "      <td>0.927967</td>\n",
       "      <td>-0.784706</td>\n",
       "      <td>-0.604953</td>\n",
       "      <td>-0.841276</td>\n",
       "      <td>-0.815863</td>\n",
       "      <td>-0.452594</td>\n",
       "      <td>0.847303</td>\n",
       "      <td>-0.117009</td>\n",
       "      <td>-0.264574</td>\n",
       "      <td>-1.098778</td>\n",
       "      <td>-1.200883</td>\n",
       "    </tr>\n",
       "    <tr>\n",
       "      <td>3</td>\n",
       "      <td>-0.359493</td>\n",
       "      <td>-0.986233</td>\n",
       "      <td>-0.591435</td>\n",
       "      <td>-0.284901</td>\n",
       "      <td>0.032259</td>\n",
       "      <td>-0.227765</td>\n",
       "      <td>-0.749540</td>\n",
       "      <td>0.682018</td>\n",
       "      <td>-0.749688</td>\n",
       "      <td>-0.892882</td>\n",
       "      <td>-0.712414</td>\n",
       "      <td>-0.712641</td>\n",
       "      <td>-1.047253</td>\n",
       "      <td>-0.819102</td>\n",
       "      <td>-0.185029</td>\n",
       "      <td>0.138023</td>\n",
       "      <td>1.069698</td>\n",
       "      <td>0.904162</td>\n",
       "    </tr>\n",
       "    <tr>\n",
       "      <td>4</td>\n",
       "      <td>-0.735574</td>\n",
       "      <td>0.068712</td>\n",
       "      <td>-0.277145</td>\n",
       "      <td>2.973016</td>\n",
       "      <td>6.927642</td>\n",
       "      <td>8.846940</td>\n",
       "      <td>-0.543343</td>\n",
       "      <td>0.472957</td>\n",
       "      <td>-0.563303</td>\n",
       "      <td>0.275809</td>\n",
       "      <td>1.679153</td>\n",
       "      <td>-0.590399</td>\n",
       "      <td>0.197230</td>\n",
       "      <td>4.964135</td>\n",
       "      <td>-0.278318</td>\n",
       "      <td>-0.221541</td>\n",
       "      <td>-0.698460</td>\n",
       "      <td>-0.438151</td>\n",
       "    </tr>\n",
       "  </tbody>\n",
       "</table>\n",
       "</div>"
      ],
      "text/plain": [
       "   compactness  circularity  distance_circularity  radius_ratio  \\\n",
       "0    -0.022586     0.011056              0.092276      0.215158   \n",
       "1     1.222802     1.261205              1.276522      0.971273   \n",
       "2    -1.000416    -0.604057             -0.997178     -1.139586   \n",
       "3    -0.359493    -0.986233             -0.591435     -0.284901   \n",
       "4    -0.735574     0.068712             -0.277145      2.973016   \n",
       "\n",
       "   pr.axis_aspect_ratio  max.length_aspect_ratio  scatter_ratio  \\\n",
       "0              0.269212                -0.041968      -0.078823   \n",
       "1              0.054187                 0.249928       1.381140   \n",
       "2             -0.585098                -0.374453      -0.817983   \n",
       "3              0.032259                -0.227765      -0.749540   \n",
       "4              6.927642                 8.846940      -0.543343   \n",
       "\n",
       "   elongatedness  pr.axis_rectangularity  max.length_rectangularity  \\\n",
       "0      -0.117567               -0.126022                   0.000081   \n",
       "1      -1.264265                1.391332                   1.196337   \n",
       "2       0.927967               -0.784706                  -0.604953   \n",
       "3       0.682018               -0.749688                  -0.892882   \n",
       "4       0.472957               -0.563303                   0.275809   \n",
       "\n",
       "   scaled_variance  scaled_variance.1  scaled_radius_of_gyration  \\\n",
       "0        -0.038748          -0.124561                  -0.006371   \n",
       "1         1.267441           1.392547                   1.177314   \n",
       "2        -0.841276          -0.815863                  -0.452594   \n",
       "3        -0.712414          -0.712641                  -1.047253   \n",
       "4         1.679153          -0.590399                   0.197230   \n",
       "\n",
       "   scaled_radius_of_gyration.1  skewness_about  skewness_about.1  \\\n",
       "0                    -0.347443        0.079460         -0.153586   \n",
       "1                    -0.051025        0.184243          0.279178   \n",
       "2                     0.847303       -0.117009         -0.264574   \n",
       "3                    -0.819102       -0.185029          0.138023   \n",
       "4                     4.964135       -0.278318         -0.221541   \n",
       "\n",
       "   skewness_about.2  hollows_ratio  \n",
       "0          0.388047       0.367500  \n",
       "1         -0.077716       0.145286  \n",
       "2         -1.098778      -1.200883  \n",
       "3          1.069698       0.904162  \n",
       "4         -0.698460      -0.438151  "
      ]
     },
     "execution_count": 97,
     "metadata": {},
     "output_type": "execute_result"
    }
   ],
   "source": [
    "centroids1 = kmeans1.cluster_centers_\n",
    "centroid_df1 = pd.DataFrame(centroids1, columns = list(df_vehicle_X_zs))\n",
    "centroid_df1"
   ]
  },
  {
   "cell_type": "markdown",
   "metadata": {
    "colab_type": "text",
    "id": "QmmrKn_U_fsr"
   },
   "source": [
    "### 11. Use kmeans.labels_ function to print out the labels of the classes"
   ]
  },
  {
   "cell_type": "code",
   "execution_count": 99,
   "metadata": {
    "colab": {},
    "colab_type": "code",
    "id": "qnLKD6-j_fsr"
   },
   "outputs": [
    {
     "data": {
      "text/plain": [
       "0      0\n",
       "1      3\n",
       "2      1\n",
       "3      3\n",
       "4      4\n",
       "      ..\n",
       "841    0\n",
       "842    0\n",
       "843    1\n",
       "844    3\n",
       "845    2\n",
       "Name: cluster_number, Length: 846, dtype: category\n",
       "Categories (5, int64): [0, 1, 2, 3, 4]"
      ]
     },
     "execution_count": 99,
     "metadata": {},
     "output_type": "execute_result"
    }
   ],
   "source": [
    "df_labels1 = pd.DataFrame(kmeans1.labels_ , columns = list(['cluster_number']))\n",
    "df_labels1['cluster_number'] = df_labels1['cluster_number'].astype('category')\n",
    "df_labels1['cluster_number']"
   ]
  },
  {
   "cell_type": "code",
   "execution_count": null,
   "metadata": {},
   "outputs": [],
   "source": []
  }
 ],
 "metadata": {
  "colab": {
   "name": "R4_Internal_Lab_Clustering_SampleSolution.ipynb",
   "provenance": [],
   "version": "0.3.2"
  },
  "kernelspec": {
   "display_name": "Python 3",
   "language": "python",
   "name": "python3"
  },
  "language_info": {
   "codemirror_mode": {
    "name": "ipython",
    "version": 3
   },
   "file_extension": ".py",
   "mimetype": "text/x-python",
   "name": "python",
   "nbconvert_exporter": "python",
   "pygments_lexer": "ipython3",
   "version": "3.7.4"
  }
 },
 "nbformat": 4,
 "nbformat_minor": 1
}
